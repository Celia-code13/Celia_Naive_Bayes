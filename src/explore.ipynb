{
    "cells": [
        {
            "cell_type": "markdown",
            "metadata": {},
            "source": [
                "## Proyecto Naive Bayes: *Clasificación de reseñas de Google*"
            ]
        },
        {
            "cell_type": "code",
            "execution_count": 47,
            "metadata": {},
            "outputs": [],
            "source": [
                "import pandas as pd\n",
                "from sklearn.model_selection import train_test_split\n",
                "from sklearn.feature_extraction.text import CountVectorizer\n",
                "import re\n",
                "from sklearn.naive_bayes import MultinomialNB\n",
                "from sklearn.metrics import classification_report"
            ]
        },
        {
            "cell_type": "markdown",
            "metadata": {},
            "source": [
                "### 1. Observacion de los datos"
            ]
        },
        {
            "cell_type": "code",
            "execution_count": 6,
            "metadata": {},
            "outputs": [
                {
                    "data": {
                        "text/html": [
                            "<div>\n",
                            "<style scoped>\n",
                            "    .dataframe tbody tr th:only-of-type {\n",
                            "        vertical-align: middle;\n",
                            "    }\n",
                            "\n",
                            "    .dataframe tbody tr th {\n",
                            "        vertical-align: top;\n",
                            "    }\n",
                            "\n",
                            "    .dataframe thead th {\n",
                            "        text-align: right;\n",
                            "    }\n",
                            "</style>\n",
                            "<table border=\"1\" class=\"dataframe\">\n",
                            "  <thead>\n",
                            "    <tr style=\"text-align: right;\">\n",
                            "      <th></th>\n",
                            "      <th>package_name</th>\n",
                            "      <th>review</th>\n",
                            "      <th>polarity</th>\n",
                            "    </tr>\n",
                            "  </thead>\n",
                            "  <tbody>\n",
                            "    <tr>\n",
                            "      <th>0</th>\n",
                            "      <td>com.facebook.katana</td>\n",
                            "      <td>privacy at least put some option appear offli...</td>\n",
                            "      <td>0</td>\n",
                            "    </tr>\n",
                            "    <tr>\n",
                            "      <th>1</th>\n",
                            "      <td>com.facebook.katana</td>\n",
                            "      <td>messenger issues ever since the last update, ...</td>\n",
                            "      <td>0</td>\n",
                            "    </tr>\n",
                            "    <tr>\n",
                            "      <th>2</th>\n",
                            "      <td>com.facebook.katana</td>\n",
                            "      <td>profile any time my wife or anybody has more ...</td>\n",
                            "      <td>0</td>\n",
                            "    </tr>\n",
                            "    <tr>\n",
                            "      <th>3</th>\n",
                            "      <td>com.facebook.katana</td>\n",
                            "      <td>the new features suck for those of us who don...</td>\n",
                            "      <td>0</td>\n",
                            "    </tr>\n",
                            "    <tr>\n",
                            "      <th>4</th>\n",
                            "      <td>com.facebook.katana</td>\n",
                            "      <td>forced reload on uploading pic on replying co...</td>\n",
                            "      <td>0</td>\n",
                            "    </tr>\n",
                            "    <tr>\n",
                            "      <th>...</th>\n",
                            "      <td>...</td>\n",
                            "      <td>...</td>\n",
                            "      <td>...</td>\n",
                            "    </tr>\n",
                            "    <tr>\n",
                            "      <th>886</th>\n",
                            "      <td>com.rovio.angrybirds</td>\n",
                            "      <td>loved it i loooooooooooooovvved it because it...</td>\n",
                            "      <td>1</td>\n",
                            "    </tr>\n",
                            "    <tr>\n",
                            "      <th>887</th>\n",
                            "      <td>com.rovio.angrybirds</td>\n",
                            "      <td>all time legendary game the birthday party le...</td>\n",
                            "      <td>1</td>\n",
                            "    </tr>\n",
                            "    <tr>\n",
                            "      <th>888</th>\n",
                            "      <td>com.rovio.angrybirds</td>\n",
                            "      <td>ads are way to heavy listen to the bad review...</td>\n",
                            "      <td>0</td>\n",
                            "    </tr>\n",
                            "    <tr>\n",
                            "      <th>889</th>\n",
                            "      <td>com.rovio.angrybirds</td>\n",
                            "      <td>fun works perfectly well. ads aren't as annoy...</td>\n",
                            "      <td>1</td>\n",
                            "    </tr>\n",
                            "    <tr>\n",
                            "      <th>890</th>\n",
                            "      <td>com.rovio.angrybirds</td>\n",
                            "      <td>they're everywhere i see angry birds everywhe...</td>\n",
                            "      <td>1</td>\n",
                            "    </tr>\n",
                            "  </tbody>\n",
                            "</table>\n",
                            "<p>891 rows × 3 columns</p>\n",
                            "</div>"
                        ],
                        "text/plain": [
                            "             package_name                                             review  \\\n",
                            "0     com.facebook.katana   privacy at least put some option appear offli...   \n",
                            "1     com.facebook.katana   messenger issues ever since the last update, ...   \n",
                            "2     com.facebook.katana   profile any time my wife or anybody has more ...   \n",
                            "3     com.facebook.katana   the new features suck for those of us who don...   \n",
                            "4     com.facebook.katana   forced reload on uploading pic on replying co...   \n",
                            "..                    ...                                                ...   \n",
                            "886  com.rovio.angrybirds   loved it i loooooooooooooovvved it because it...   \n",
                            "887  com.rovio.angrybirds   all time legendary game the birthday party le...   \n",
                            "888  com.rovio.angrybirds   ads are way to heavy listen to the bad review...   \n",
                            "889  com.rovio.angrybirds   fun works perfectly well. ads aren't as annoy...   \n",
                            "890  com.rovio.angrybirds   they're everywhere i see angry birds everywhe...   \n",
                            "\n",
                            "     polarity  \n",
                            "0           0  \n",
                            "1           0  \n",
                            "2           0  \n",
                            "3           0  \n",
                            "4           0  \n",
                            "..        ...  \n",
                            "886         1  \n",
                            "887         1  \n",
                            "888         0  \n",
                            "889         1  \n",
                            "890         1  \n",
                            "\n",
                            "[891 rows x 3 columns]"
                        ]
                    },
                    "execution_count": 6,
                    "metadata": {},
                    "output_type": "execute_result"
                }
            ],
            "source": [
                "df =  pd.read_csv('https://raw.githubusercontent.com/4GeeksAcademy/naive-bayes-project-tutorial/main/playstore_reviews.csv')\n",
                "df"
            ]
        },
        {
            "cell_type": "code",
            "execution_count": 7,
            "metadata": {},
            "outputs": [],
            "source": [
                "df.drop('package_name', axis = 1, inplace = True)"
            ]
        },
        {
            "cell_type": "code",
            "execution_count": 9,
            "metadata": {},
            "outputs": [
                {
                    "data": {
                        "text/html": [
                            "<div>\n",
                            "<style scoped>\n",
                            "    .dataframe tbody tr th:only-of-type {\n",
                            "        vertical-align: middle;\n",
                            "    }\n",
                            "\n",
                            "    .dataframe tbody tr th {\n",
                            "        vertical-align: top;\n",
                            "    }\n",
                            "\n",
                            "    .dataframe thead th {\n",
                            "        text-align: right;\n",
                            "    }\n",
                            "</style>\n",
                            "<table border=\"1\" class=\"dataframe\">\n",
                            "  <thead>\n",
                            "    <tr style=\"text-align: right;\">\n",
                            "      <th></th>\n",
                            "      <th>review</th>\n",
                            "      <th>polarity</th>\n",
                            "    </tr>\n",
                            "  </thead>\n",
                            "  <tbody>\n",
                            "    <tr>\n",
                            "      <th>0</th>\n",
                            "      <td>privacy at least put some option appear offli...</td>\n",
                            "      <td>0</td>\n",
                            "    </tr>\n",
                            "    <tr>\n",
                            "      <th>1</th>\n",
                            "      <td>messenger issues ever since the last update, ...</td>\n",
                            "      <td>0</td>\n",
                            "    </tr>\n",
                            "    <tr>\n",
                            "      <th>2</th>\n",
                            "      <td>profile any time my wife or anybody has more ...</td>\n",
                            "      <td>0</td>\n",
                            "    </tr>\n",
                            "    <tr>\n",
                            "      <th>3</th>\n",
                            "      <td>the new features suck for those of us who don...</td>\n",
                            "      <td>0</td>\n",
                            "    </tr>\n",
                            "    <tr>\n",
                            "      <th>4</th>\n",
                            "      <td>forced reload on uploading pic on replying co...</td>\n",
                            "      <td>0</td>\n",
                            "    </tr>\n",
                            "  </tbody>\n",
                            "</table>\n",
                            "</div>"
                        ],
                        "text/plain": [
                            "                                              review  polarity\n",
                            "0   privacy at least put some option appear offli...         0\n",
                            "1   messenger issues ever since the last update, ...         0\n",
                            "2   profile any time my wife or anybody has more ...         0\n",
                            "3   the new features suck for those of us who don...         0\n",
                            "4   forced reload on uploading pic on replying co...         0"
                        ]
                    },
                    "execution_count": 9,
                    "metadata": {},
                    "output_type": "execute_result"
                }
            ],
            "source": [
                "df.head()"
            ]
        },
        {
            "cell_type": "code",
            "execution_count": 10,
            "metadata": {},
            "outputs": [],
            "source": [
                "df[\"review\"] = df[\"review\"].str.strip().str.lower()"
            ]
        },
        {
            "cell_type": "code",
            "execution_count": 41,
            "metadata": {},
            "outputs": [],
            "source": [
                "# Función para limpiar el texto\n",
                "def clean_text(text):\n",
                "    # Convertir a minúsculas\n",
                "    text = text.lower()\n",
                "    # Eliminar caracteres no ASCII\n",
                "    text = re.sub(r'[^\\x00-\\x7F]+', ' ', text)\n",
                "    # Eliminar caracteres especiales adicionales\n",
                "    text = re.sub(r'[^a-zA-Z\\s]', '', text)\n",
                "    return text.strip()\n",
                "\n",
                "# Aplicar limpieza de texto\n",
                "df[\"review\"] = df[\"review\"].apply(clean_text)"
            ]
        },
        {
            "cell_type": "markdown",
            "metadata": {},
            "source": [
                "*Conclusiones preliminares*:\n",
                "- *Decidimos que no es necesario hacer un EDA, ya que no tiene sentido, pues la única variable que nos interesa es la que contiene texto.*\n",
                "- *Hacemos un procesado del texto: eliminamos espacios, mayúsculas, caracteres especiales y numéricos.*"
            ]
        },
        {
            "cell_type": "markdown",
            "metadata": {},
            "source": [
                "### 2. Entrenamiento del modelo Naive Bayes Multinomial"
            ]
        },
        {
            "cell_type": "code",
            "execution_count": 42,
            "metadata": {},
            "outputs": [],
            "source": [
                "X_train, X_test, y_train, y_test = train_test_split(df.review, df.polarity, test_size=0.2, random_state=63)"
            ]
        },
        {
            "cell_type": "code",
            "execution_count": 43,
            "metadata": {},
            "outputs": [],
            "source": [
                "vec_model = CountVectorizer(stop_words = \"english\")\n",
                "X_train = vec_model.fit_transform(X_train)\n",
                "X_test = vec_model.transform(X_test)"
            ]
        },
        {
            "cell_type": "code",
            "execution_count": 46,
            "metadata": {},
            "outputs": [
                {
                    "name": "stdout",
                    "output_type": "stream",
                    "text": [
                        "Bolsa de palabras que se usa para el entrenamiento:\n",
                        "aa, aafnaii, aakhirat, aalikati, aap, aaps, aapsssssss, aaru, abilities, ability, abke, able, aboutwants, absolute, absolutely, accecesible, accepted, acces, accesible, access, accessed, accessible, accessing, accident, accidently, according, accordion, account, accounts, accurate, achievements, achive, act, action, actions, active, activities, activity, acts, actual, actually, ad, add, added, addicted, addicting, addiction, addictive, adding, addition, additional, address, adds, adequate, adfree, adjust, adjustment, admin, ads, adsand, advanced, advantage, adventurous, advertisement, advertisements, advertising, adverts, advice, advised, aesthetics, affect, affirm, aficionado, afloat, againuntil, age, agenda, agent, ages, aggresively, ago, agree, ahead, aint, air, akash, album, albumcamera, albums, alert, alerts, ali, allahsubhanahutallah, allow, allowed, allows, allready, alot, alphabetical, alright, alterations, alternative, altogether, amazing, amazingsurprise, ambience, america, anchor, android, aney, angry, animated, animationimage, animations, annapurna, annoyance, annoyed, annoying, anone, anothers, anoying, answer, answers, anti, antivirus, anurodh, anwer, anymore, anythingplease, anytime, anytimeall, ap, apart, apis, apk, app, apparent, appeal, appealing, appear, appearance, appeared, appearing, appears, appi, apple, appliation, application, applied, applies, apply, appp, appreciate, approaching, appropriate, approval, apps, appsit, appxcept, aprrox, aps, aquire, ar, archive, arduous, arent, arrange, arrangement, arrived, arrives, arrogant, artifacts, asap, asapim, ashame, asia, ask, asked, asking, asks, aspect, aspects, assets, assistance, associated, assumed, asus, atks, atleast, atm, attack, attacker, attention, attorney, attractive, attributed, audience, audio, auth, authenticate, auto, autoimport, automated, automatic, automatically, availability, available, average, avid, away, awaygreat, awesome, awesomness, awful, awhile, awsm, awsome, ba, backed, background, backing, backnow, backup, backuprestore, backward, bad, badly, bait, baking, balance, balloon, balloons, banauda, bandwidth, bank, bar, bardzo, barely, barracks, barrister, bars, barstools, base, based, bases, basic, basically, battery, battleing, bcome, bcoz, bcuz, beach, beacouse, beats, beautiful, beauty, becoz, beep, begin, beginning, behave, behaves, believe, belong, belongs, benifit, bennetthe, best, bestlooking, beta, better, bhai, bharema, bhaye, bias, big, bigger, biggest, bills, bing, binned, bird, birdnot, birds, birthday, bit, bk, black, blackberry, blah, blank, blast, blessed, blessup, blinks, block, blocked, blocker, blocking, blockingshow, blue, blurred, boat, bomb, bombs, bonus, bonuses, boo, book, bookmark, bookmarked, bookmarking, bookmarks, booknow, books, boom, boost, booster, boosters, booted, bored, boring, bought, box, boxand, boxesbullet, boy, bread, break, brief, brightly, brilliant, bring, brings, bro, broadcast, broke, broken, broswer, brother, brought, brown, browse, browser, browsers, browsersone, browsing, brutally, bs, bt, btw, bubble, buddies, bufring, bug, bugd, buggier, buggy, bugs, build, building, buildings, built, bulk, bull, bullet, bullshit, bumped, bunch, buried, burning, business, busy, butt, butter, button, buttonoption, buy, buying, bw, bye, cache, calculation, calendar, calender, called, calling, calls, calm, came, camera, camp, camper, camscanner, cancel, candies, candy, candycrush, candys, cantpls, canttry, cap, capabilities, capitalization, capitalize, capitalized, caps, capslock, caption, capture, card, cards, care, cares, caring, carousel, case, cashing, casual, casually, categorizes, cause, caused, causes, cautious, celebrity, cell, cellphone, cellular, centre, certain, certificate, chai, challange, challenge, challenges, challenging, chance, chances, change, changeable, changed, changes, changing, channel, character, characters, charge, charm, chat, chats, chatting, cheap, cheaper, check, checked, checkered, checking, cheers, chemicals, chest, children, chile, chill, chinese, choice, choices, choicevery, choose, choosing, choti, christmas, chrome, chromeopera, chromium, chronological, city, claim, clan, clans, clansthen, clash, class, classic, classmates, clean, cleaner, clear, cleared, clearing, clearly, clears, clever, click, clicked, clicking, client, clientside, clip, clipboard, clipped, clips, cloaks, clogs, cloogy, close, closed, closer, closes, closetry, closing, cloud, clouds, clqn, clr, clunky, clutter, cluttered, cnt, coc, code, coding, collabo, collaborations, collapsible, colleagues, collected, collection, collectors, color, colored, colorful, colors, colour, colourful, colourfulmaybe, colourit, combine, combined, come, comes, comfortable, coming, command, comment, comments, commercial, commercials, commit, common, comms, communicate, communication, communications, community, company, compare, compared, comparing, compatible, compensation, compete, competition, complain, complaining, complaint, complaints, compleat, complete, completely, completing, complicate, complicated, compose, compression, computer, computerma, computers, concept, concerned, conducted, confirmation, conformation, confused, confusing, confusion, conjoined, conjure, connect, connected, connecting, connection, connectioni, connectionplease, connections, connectivity, consider, consideration, considering, consist, constant, constantly, consume, consumption, contact, contacting, contacts, contains, content, contents, continually, continue, continues, continuing, continuously, contrary, control, controlled, controls, conts, convenient, conversation, conversations, convertor, cool, cooler, cooper, coordinating, coordination, copied, copies, copy, core, corner, correct, cost, costing, count, countless, country, couple, course, covering, coz, cp, cpu, crap, crapberry, crash, crashed, crashes, crashing, crawl, crazy, create, created, creates, creating, creation, creator, creators, credentials, cringe, crome, crop, cross, crucial, crush, crying, ctrlf, cue, cumbersome, currency, current, currently, custom, customer, customers, customisatins, customization, customizationit, cut, cuteand, cuts, cutting, cuz, da, daammiiiiiiiiiiiiiiiiiii, dafuq, daily, daju, dami, dammit, damn, danm, dark, darkblack, dat, data, dataand, database, datawifi, date, dates, dating, day, daynow, days, dbl, dead, deadfix, deal, dear, december, decembers, decent, decided, decides, decline, declining, decrease, decreased, decreases, deen, default, defaults, defense, define, definite, definitely, defy, delay, delayed, delays, delete, deleted, deleting, delight, delivered, delivering, demand, democracy, depend, deploy, depth, described, description, design, designed, desire, desired, desktop, desperately, despite, destroyed, details, detect, detects, deterioted, determined, detoriated, develop, developer, developers, developing, device, devicebrowser, devicenotification, devices, devs, dharai, dherai, dialer, dialog, did, didnt, die, dieing, difference, different, differently, difficult, direct, direction, directly, directlythis, directory, dis, disable, disabled, disableenable, disabling, disadvantage, disappear, disappeared, disappears, disappointed, disappointing, disappointment, disconects, disconnectec, disconnected, disconnection, discovered, discuss, discussion, dislike, dismissing, display, displayed, displays, disqualified, disrespectful, disruptive, dissapear, dissapointed, dnt, document, documents, does, doesnt, dog, doing, dolphin, donate, donno, donot, dont, dontcant, doogee, double, doubt, doubtlessly, douchebags, doucments, dowload, downgrade, download, downloaded, downloading, downloads, downwards, dozen, dp, dps, drag, dragdrop, drainage, drained, draining, draught, drive, drives, driving, droid, drop, dropbox, dropboxall, dropboxbut, dropped, dropping, drops, dukha, dumb, dumbso, duniyan, dunno, duplication, duration, dwnldng, dzie, ear, earlier, earliest, earn, earphone, ease, easier, easily, easy, easylazy, eat, eating, edge, edit, editable, editing, effect, effectively, efficient, effort, ek, ekantipur, electronic, electronically, elixer, elixir, ellipsis, els, email, emails, embedding, emoji, emojis, emoticons, emotions, employees, enable, enabled, enables, encumbrance, end, endorse, endorsement, ends, engine, engines, england, english, enjoy, enjoyable, enjoyed, enjoying, enormous, ensure, enter, entered, entering, entertaining, entertainment, entire, entirely, epaper, epicthen, episode, episodetired, equal, er, erases, erm, err, erroneous, error, errors, especially, essay, essential, essentially, essy, ether, event, eventhough, eventthis, eventually, evernote, evernoteforever, evertone, everybody, everyday, everydayit, everyones, everytime, evrybody, exactly, exceeds, excel, excellent, excels, exceptionally, excessive, exchange, exclaimed, excusable, excuses, executed, exhibit, exist, exists, exit, exits, expandable, expanded, expect, expectations, expected, expecting, expection, expensive, experience, expertise, expired, expirience, explain, explore, explorer, express, expressing, extension, external, extra, extreme, extremely, eye, eyes, faast, fab, face, facebook, facetime, facilities, facillity, facing, fact, factory, fail, failed, fails, failure, fair, fall, falls, family, familyily, fan, fancy, fantastic, fantasticespecially, far, farming, fast, faster, fastest, fastly, fastwhen, fate, fault, fav, favorite, favorites, favourite, fb, fbdownloading, feathers, feature, features, fee, feed, feedback, feeds, feel, feeling, feelings, feels, felt, festival, fetch, fhone, fi, field, figure, file, files, filled, filler, finally, fine, finger, finish, finishing, firefox, fish, fit, fix, fixated, fixed, fixes, flash, flashlight, flaw, flawlessly, flaws, fleksy, flexibility, flexible, fliers, flinging, flip, floating, fluent, fly, fm, fo, folder, folders, follow, followed, followers, following, follows, fond, fonepad, font, fonts, fool, footprint, force, forced, forces, forest, forever, forget, forgot, form, format, formatit, formatted, forms, forth, forts, fortune, forum, forward, founder, frams, frankly, fraud, freaking, free, freedom, freeze, freezes, freezing, frenz, frequent, frequently, fresh, friend, friendly, friends, friendship, frm, frozen, fruitful, frustrated, frustrating, fualts, fully, fun, funbut, function, functionality, functioning, functions, funny, furthermore, fuse, futhermore, future, gaarnuu, gained, gains, galary, galaxy, gallery, game, gamecenter, gameits, gameplay, games, gamethen, garbage, garchu, garda, garnu, gasp, gautam, gave, gb, gem, gems, gen, general, generally, generic, genuine, german, gesturesswipes, gets, getting, ghost, giants, gif, gifs, gift, gifts, gig, gionee, girl, girlfriend, girls, given, gives, giving, glad, gladly, glitch, glitchier, glitchy, globe, gmail, goals, god, goes, going, gold, gone, gonereturn, gonna, good, google, googlend, googles, got, gotchas, goto, gotten, governance, government, govinda, grab, grandchildren, graphic, graphics, gravity, gray, great, greatfull, greatness, greatsometimes, greatsuggestion, greatthe, greed, green, grey, greyed, grid, ground, group, grouped, grouping, groups, grows, grr, gtalk, gtlt, gud, guess, guy, guys, guysthis, gven, haami, habit, hack, hai, hajur, half, hall, hame, hami, hamro, hamrokeyboard, hand, handful, handle, handled, hands, handsender, handset, handwriting, hang, hangand, hanged, hanging, hangout, hangouts, hangoutsgoogle, hanif, happen, happend, happened, happening, happens, happily, happy, hard, harder, hardware, hardy, haru, harule, harvests, hashtag, hate, hated, hats, hau, havent, having, havoc, hd, head, headache, headachent, headlines, heads, healing, hear, heard, heart, hearts, heavy, hebrew, heck, held, hell, hello, helloplease, help, helped, helpful, helping, helpless, helps, hernu, heros, hey, hi, hide, hierarchies, high, highend, higher, highest, highlight, highlighting, highly, hike, hilarious, hindi, history, hit, hitting, ho, hog, hogs, hold, holding, holds, home, homepage, homepagemai, honest, honestly, honor, honors, hooked, hoola, hope, hopefully, hoping, horrible, hostage, hot, hour, hours, hoursout, houru, htc, hud, huge, hugely, huh, humanity, hundreds, hune, hungry, hunthyo, hunxa, hurry, hurt, hurts, husband, hv, iam, ice, icon, id, idea, ideal, ideas, identify, identity, idk, ig, ignored, iike, ill, im, image, images, imean, imessage, imessages, immediate, immediately, immediatetely, implementation, implemented, important, importantly, importent, imposible, impossible, impractical, impressive, improve, improved, improvement, improvements, improving, improvisedthanks, inactivity, inbox, inbuilt, include, included, including, incognito, income, incompetent, incomplete, incorporate, incorrect, incraese, incredible, incredibly, independent, independently, india, indian, individual, individually, infected, inferior, info, information, infront, initial, initially, initiating, initiative, innovative, input, inserting, inside, install, installation, installed, installing, installs, instance, instant, instantly, instead, instore, instructions, integrates, integration, intention, interactthis, interested, interesting, interface, intermediate, internal, internet, interpretation, interrupt, introduce, introduced, introducing, introduction, invasive, invest, invested, invisible, invitation, invitations, inviting, ios, ipad, ipads, iphone, iphones, irelative, irrelevant, irritating, irritatingtab, isnt, issue, issues, italways, itd, iteam, items, itit, itits, itll, itmoved, itnot, itstill, itthanks, itthen, iv, ive, iz, jackpot, jam, jane, jellies, jelly, jill, job, joke, jolting, jot, jpeg, judgment, jumbled, jump, jumping, jumps, junemy, jungle, junk, just, kalaiya, kalo, kantipur, karachi, kbps, kbsec, keeper, keeps, kept, key, keyboar, keyboard, keyboards, keybord, keyits, keys, keywords, khojyo, khusii, kicked, kicking, kicks, kidding, kids, kill, killed, kind, kinda, kindly, kingdom, kitkat, kmg, knew, knock, knockoff, know, knowing, knowledge, known, knows, kntipur, knw, ko, komunikacji, labratory, lac, lack, lacking, lacks, lag, lagging, laggy, laghard, lags, lagyo, lagyooeaataii, lai, language, languages, laptop, large, larger, late, lately, later, latest, lauded, launch, layout, lazy, leading, learn, learners, leave, leaving, left, lefthand, legendary, lekhna, lemmings, lengthy, lens, let, letdown, lets, letter, letterd, letters, letting, level, levels, lg, life, lifefinances, lifeto, light, lightweight, like, liked, likedretweeted, likes, likewise, liking, lil, limitations, limited, limits, limts, linda, line, lines, link, linkedin, linkedins, links, linux, linuxbased, lipi, list, listed, listen, listening, lists, listview, lite, literally, littering, little, live, lives, living, load, loaded, loading, loadplease, loadrefresh, loads, locality, locally, location, locations, lock, log, logged, logging, login, loginserver, logo, logs, lol, lollies, lollipop, long, longer, longest, look, looking, looks, loooooooooooooovvved, looot, loose, looses, loot, loots, lopsided, lose, loser, loses, losing, loss, losses, lost, lot, lots, loudthe, lousy, love, loved, lovehate, lovely, lover, lovers, loves, low, lower, lowercase, lowercaseemoji, lowerloosing, lt, lte, luck, luckerly, lvl, ma, mad, madara, magic, magical, magnificent, maile, main, mainly, maintaining, mait, major, make, makes, making, malai, malware, man, manage, management, manager, manages, mandatory, manually, map, march, mario, mark, market, marketplace, marshmallow, mash, massage, massages, massive, matching, material, matra, matter, matterthis, max, maximum, maxthon, maybe, maybee, mayth, mb, mbs, mea, mean, meaning, means, meant, mebt, mebut, mechanism, media, mediaonly, medium, meeting, meh, meizu, member, members, membership, memes, memory, men, mention, mentioned, mentioning, mentoined, menu, merge, mess, message, messages, messageswhich, messaging, messed, messenger, messengerfacebook, messing, met, metadataexif, method, mic, micro, microsoft, mid, middle, mighty, migration, million, min, mind, minded, mini, minilite, minimal, minor, mins, mints, minus, minute, minutes, miss, missed, missing, mission, mistake, miui, mixed, mms, mmssms, mo, mobie, mobile, mobilefriendly, mobiles, mobiletabs, moblie, mode, model, modelafter, modere, modern, modifications, modify, mom, moment, moments, money, monitor, monster, month, months, moon, moral, morally, moreish, morning, mouth, moved, moves, moving, mozilla, mp, mracles, mrsgwennd, ms, msg, msgand, msges, msgresolve, msgs, muhammad, multi, multiplayer, multiple, multitab, music, mustard, muted, mutiple, mystery, nag, names, narrow, naruto, narz, national, native, natively, natures, navarro, navigation, nd, neali, near, nearby, nearly, neat, neato, necessarily, necessary, necessity, need, needed, needfull, needing, needs, negative, neoali, nepal, nepalese, nepali, net, netflix, network, networkand, networking, networks, new, newbie, newer, newest, newly, news, newsfeed, newspaper, newzvery, nexus, ni, nice, nicely, nicknames, night, nightmare, nikaldaii, nitwits, nokia, non, nonspecific, noo, nope, normal, normally, note, notebooks, notes, notetaker, notetaking, notice, noticed, noticing, notification, notifications, notified, notify, notthanks, novel, nowadays, nowifi, nowinstead, nuisance, number, numbers, numerous, nyc, observation, observed, obviously, occasionally, occasions, occasionspictures, occur, occurany, occured, occurs, ocd, offer, offers, office, official, officials, offline, offlineon, oh, ok, okay, okaypretty, old, older, oldest, olds, oman, onedrive, onenote, oneplusx, ones, online, onlineand, onlyi, onlywe, ony, opacity, open, openbut, opend, opened, openedswitch, opening, openness, opens, openthis, opera, operaconfig, operate, operating, operator, opinion, opponent, opposed, opposite, oppurtunity, opt, optimised, optimization, optimum, option, options, order, orderhalf, organization, organize, organized, orientation, original, os, othe, otherwisey, othr, outcalls, outfits, outof, output, overall, overseas, ow, paauda, pace, package, pad, page, pageplease, pages, paid, pain, paine, painfully, pakistan, pan, panasonic, panel, pani, panning, paper, paren, parne, particular, parts, party, pass, passed, passion, password, passwords, past, paste, pasting, patience, patient, patro, pattern, pay, payed, paying, pc, pcs, pcwhen, pdf, pdfs, peaple, peek, pekka, penalty, pending, people, peoples, peramiters, perceivable, percent, perception, perez, perfect, perfection, perfectly, performance, performs, period, permissions, perpetrated, persist, persistent, persists, person, personal, personally, personspecific, pffft, phenomenol, phn, phon, phone, phones, phonetic, photo, photos, photosi, photoswill, pic, pick, picked, picks, pics, picture, pictures, piggy, pigs, pin, pl, place, placement, places, placing, plain, plan, planet, planner, planning, plans, platform, platforms, play, playback, played, player, players, playing, plays, pleasee, pleaz, pliz, pls, plss, plsss, plugins, plus, plz, plzz, point, pointless, points, polished, poor, pop, popped, popping, pops, popup, popups, position, possibility, possible, possibletnx, possibly, post, posted, poster, posting, postit, posts, potential, potentially, power, powerful, powerfull, ppl, practice, practices, preety, prefered, preference, preferred, premium, prepared, presentation, press, pressclick, pressed, pressing, pressure, pretty, preventing, preview, previews, previous, previously, price, primarily, primary, print, prior, privacy, private, privaye, prob, probably, problam, problem, problematic, problemi, problems, problemsi, problemso, problm, probs, procedure, process, processes, produce, produced, product, productive, products, professional, proffesional, profile, profit, program, programming, programs, progress, project, projects, promising, proper, properly, properties, proposed, protect, protected, protocol, proved, provide, provided, provider, provides, ps, public, puffin, purchase, purchased, purchasing, pure, push, pushed, pushers, pushing, puts, qq, quality, qualms, queing, question, questions, quick, quickly, quiet, quit, quite, quits, radio, raid, railway, ram, ramro, ran, random, randomly, rank, rapped, rashifal, rate, rated, rating, ratings, rd, reach, reaches, reactions, read, readd, reader, reading, ready, real, reality, realize, realized, really, realtime, reason, reasoni, reasons, reboot, receipt, receive, received, receivedbothering, receiving, recent, recently, reception, recognition, recognizes, recommend, recommendation, reconnect, reconsidered, record, recorded, recover, recovery, rectangle, red, redesign, redesigns, redicioulous, rediculus, redownload, redownloading, reds, reduce, reduced, refer, refresh, refreshes, refreshing, refuses, registering, registration, regular, regularly, reinstall, reinstalled, reinstalling, related, relatively, release, released, reliable, reload, reloaded, reloading, rely, remain, remaining, remains, remember, remembers, remind, removable, remove, removed, renewing, reopen, reordered, repayment, repeat, repeated, repeatedly, replace, replaced, replied, replies, reply, report, reported, reporting, reports, reposition, request, requests, require, required, requires, resantly, resend, resent, reset, resets, resolution, resolve, resolved, resort, resources, respect, respond, responded, responding, response, responses, responsiveness, rest, restart, restarted, restarting, restore, restored, restriction, resync, retained, retarded, return, returning, retweet, revealed, revert, reverts, review, reviewer, reviewers, reviewing, reviews, reward, rewards, rewelacja, richard, rid, ridiculous, ridiculously, right, rigorously, ring, ringing, rings, ringtone, ripoff, risk, road, roaming, rock, rocking, rocks, roll, rolled, room, root, round, rounds, rovio, rows, rubbish, rude, ruin, ruined, rules, run, running, runs, rupess, rush, sabai, sabotaged, sad, sadly, safe, safer, saga, said, samehope, samsung, sanshkar, saptahikkantipur, sarl, sathi, save, saved, saver, saves, saving, savings, saw, say, saying, says, scale, scan, scanner, scarce, scheme, school, score, scoring, screamer, screen, screens, screenshot, screenshots, screwed, scribble, scroll, scrolling, scrolls, scroogles, sd, sdcard, sdxc, search, searchapart, searches, searching, searhing, sec, second, seconds, section, securely, security, seeing, seemingly, seen, seenzone, sees, segment, select, selected, selecting, self, sell, selling, semi, send, sender, sending, sendplz, sends, sense, sent, sentense, separate, separately, separation, sepearately, seperate, series, seriously, server, service, services, sessions, set, setting, settings, setup, sghi, shab, shadow, shadows, shake, shaking, shall, shame, share, shared, sharing, shes, shield, shift, shifted, shifts, shit, shite, shocking, shoilder, shop, shopping, short, shortcut, shortcuts, shot, shouldnt, shouldve, showed, showing, shown, shows, shrunk, shuts, shw, sick, sideit, sideways, sight, sights, sign, signal, signed, signing, signs, silent, silly, similar, simple, simpler, simplicity, simplified, simply, simultaneously, single, sinxe, sir, sis, sister, sit, site, sites, sitting, situation, situations, size, sizecolor, skeletons, skeptical, skill, skills, skip, skipping, skitch, skype, slack, sleazy, sleeping, slick, slide, sling, slow, slower, slowest, slowly, slows, small, smaller, smart, smartphone, smgf, smh, smooth, smoothest, smoothly, smoothness, sms, snails, snow, snowman, sochnuna, social, sockethttp, soda, software, solid, solution, solutionalready, solutions, solve, solved, solves, som, somesite, somethings, somewhat, song, sony, soon, sooner, soonsince, sooo, soooo, soranyttime, sorry, sort, sorted, sorting, sos, sound, sounds, source, space, spaced, spacememory, spaces, spam, spammed, spamming, spams, span, spare, speaker, special, specially, specialy, specific, speed, spellingold, spells, spend, spent, spin, spinner, spontaneous, spot, spread, spur, spyware, square, ss, sso, st, stable, stage, stages, standalone, standard, star, stars, start, started, starthank, starting, starts, startup, state, states, stats, status, stay, stayed, stays, steady, steal, steamos, step, steps, steroids, stewards, stick, stickerie, stickers, stickersimages, stickersit, stickersnori, sticking, sticky, stilted, stolen, stop, stopped, stopping, stops, storage, store, stored, stories, storsge, story, storyhistorical, straight, straightforward, strangers, strategy, stream, streamlined, stressful, strike, strikethrough, striking, striped, strong, strongened, struck, structures, stuck, student, students, stuff, stumbled, stunning, stupid, stutter, stylish, subject, subjects, submit, submitting, suboptimal, subscribe, subsequent, subtext, success, successful, suck, sucks, sudden, suddenly, suffered, sufficient, sugandha, suggest, suggested, suggesting, suggestion, suggestions, suitable, sukaha, sum, summer, sumpreme, sun, super, superb, supercell, superfast, superpowers, supplies, support, supported, supports, suppose, supposed, supposedly, sure, surprised, survive, sussinct, sux, suxessfor, swaps, sweety, swipe, swiping, switch, switched, switcher, switching, swordwielding, symbian, symbols, sync, synced, synched, syncing, syncs, systems, tab, tabbed, tabfrom, table, tablet, tablets, tabletsphones, tabs, tag, tags, taken, takes, taking, talk, talkie, talking, tall, tamil, tap, tapping, taps, tara, task, tasks, tat, tatal, tb, te, teach, team, tech, telegram, telephone, tell, telling, tells, tels, tempers, temple, tencent, tendency, terms, terrible, test, testing, text, texting, texts, tge, th, tha, thank, thankful, thankfully, thanks, thanx, thatll, thats, theme, themes, themthen, ther, therehaving, theres, theyre, theyve, thi, thing, things, think, thinking, thinkinghoping, thinks, thisgeez, thiswho, thn, thnkz, tho, thoroughly, thought, thoughts, thousands, thrilling, throw, ths, tht, thumbnailicon, thumbs, thumnail, thx, thyehi, ticket, tickets, tiers, till, time, timeline, timepass, times, timestamps, timesvery, tiny, tip, tips, tired, titan, title, titles, today, todo, todoly, toggle, told, tomorrowbad, ton, tone, tony, took, tool, topic, topright, total, totally, touch, touched, touchscreen, touted, town, tq, track, traditional, transfer, transferable, transition, translate, translation, translations, trash, treats, tricky, tried, trieddisabled, tries, trigger, troops, trophies, trophy, trouble, troubleshooting, trounle, true, trump, try, trying, tubebut, tumblrblog, turn, turned, turning, turns, tutorial, tv, tweet, tweets, twice, twitter, type, typed, typeing, typically, typing, ua, ubuntu, uc, ucbrowser, uchiha, ug, ugghh, ugly, ui, ultimately, umm, unable, unacceptable, unbelievable, unbelievably, undead, underscore, understand, undisputed, undo, undoubtly, unedited, unethical, unexpected, unforgivably, unfortunately, unfreeze, unfriend, unfriendly, unicodes, uninstall, uninstalled, uninstalling, uninstalls, unique, unis, unite, unless, unlike, unlimited, unlock, unmatched, unninstall, unorganized, unpleasant, unresponsive, unsatisfactory, unstable, untill, unusable, unwanted, update, updated, updatekeeps, updates, updatesit, updatesthere, updatestill, updating, updatinghangs, updation, upgoogle, upgrade, upgrades, upgrading, upload, uploaded, uploading, upped, upper, ups, upto, ur, urged, url, usability, usablemany, usage, use, used, useful, usefuldis, usefully, useless, user, userbase, users, uses, using, usless, ussd, usually, utter, ux, valid, variety, various, vasa, verification, verified, verify, verison, verizon, verrrry, verry, version, versionif, versions, versionupdate, verson, vibe, viber, vibrate, vibration, video, videos, vids, viet, view, viewed, viewers, viewing, views, village, villages, vine, violence, virus, visble, visible, visiting, visuals, voice, volume, vote, vpn, vry, waay, waist, wait, waited, waiting, wakelock, wakelocks, walkie, wall, wallet, wallpapers, walls, wanna, want, wanted, wants, wapp, war, wasnt, waste, wastefulafter, waster, wasting, watch, watching, wating, way, ways, weakness, web, webclips, webdesktop, webpage, webpages, website, websites, websitespreviously, wechat, wechats, wed, wedding, week, weeks, weird, welcome, wen, went, werent, whats, whatsapp, whatsappi, wheel, wheres, whilst, whiners, whitch, white, whone, whos, whts, whwn, wich, wide, widget, widgets, wifi, wifidesame, wifidont, wikipedia, win, window, windows, windowsmy, wings, winter, wip, wipe, wiping, wire, wise, wish, wit, withou, wizards, wonder, wonderful, wont, woory, word, wordcount, words, work, worked, working, works, world, worldalso, worlds, worry, worse, worsed, worst, worth, worthless, wouldnt, write, writing, written, wrong, wtf, wth, xa, xmpp, xoxo, xperia, yahoo, yall, yeah, year, years, yellow, yep, yes, yo, youd, youll, youre, youtube, youve, yrs, yteczne, yup, zenfon, zenfone, zespole, zooming\n"
                    ]
                }
            ],
            "source": [
                "# Obtener la bolsa de palabras\n",
                "vocabulary = vec_model.get_feature_names_out()\n",
                "\n",
                "# Convertir la lista a una cadena y imprimirla\n",
                "print('Bolsa de palabras que se usa para el entrenamiento:')\n",
                "print(', '.join(vocabulary))"
            ]
        },
        {
            "cell_type": "code",
            "execution_count": 73,
            "metadata": {},
            "outputs": [
                {
                    "name": "stdout",
                    "output_type": "stream",
                    "text": [
                        "Reseña de prueba:   (0, 344)\t1\n",
                        "  (0, 540)\t1\n",
                        "  (0, 1070)\t2\n",
                        "  (0, 1218)\t1\n",
                        "  (0, 2173)\t1\n",
                        "  (0, 2765)\t1\n",
                        "\n",
                        "Palabras del conjunto de entrenamiento que también aparecen en la reseña de test junto con su aparición:\n",
                        "\n",
                        "Palabra: \"browser\"\n",
                        "--> Aparece 1 veces en la reseña.\n",
                        "Palabra: \"come\"\n",
                        "--> Aparece 1 veces en la reseña.\n",
                        "Palabra: \"firefox\"\n",
                        "--> Aparece 2 veces en la reseña.\n",
                        "Palabra: \"gonna\"\n",
                        "--> Aparece 1 veces en la reseña.\n",
                        "Palabra: \"platform\"\n",
                        "--> Aparece 1 veces en la reseña.\n",
                        "Palabra: \"standard\"\n",
                        "--> Aparece 1 veces en la reseña.\n"
                    ]
                }
            ],
            "source": [
                "# Probando que el vectorizador funciona adecuadamente\n",
                "\n",
                "print(f'Reseña de prueba: {X_test[0]}')\n",
                "print('\\nPalabras del conjunto de entrenamiento que también aparecen en la reseña de test junto con su aparición:\\n')\n",
                "for i, cont in enumerate(X_test.toarray()[0]):\n",
                "  if cont!=0:\n",
                "    print(f'Palabra: \"{vec_model.get_feature_names_out()[i]}\"')\n",
                "    print(f'--> Aparece {cont} veces en la reseña.')"
            ]
        },
        {
            "cell_type": "code",
            "execution_count": 74,
            "metadata": {},
            "outputs": [
                {
                    "name": "stdout",
                    "output_type": "stream",
                    "text": [
                        "              precision    recall  f1-score   support\n",
                        "\n",
                        "           0       0.82      0.89      0.85       126\n",
                        "           1       0.67      0.55      0.60        53\n",
                        "\n",
                        "    accuracy                           0.79       179\n",
                        "   macro avg       0.75      0.72      0.73       179\n",
                        "weighted avg       0.78      0.79      0.78       179\n",
                        "\n"
                    ]
                }
            ],
            "source": [
                "# Modelo sin optimizar\n",
                "\n",
                "model = MultinomialNB().fit(X_train, y_train)\n",
                "\n",
                "y_pred = model.predict(X_test)\n",
                "\n",
                "print(classification_report(y_test, y_pred))"
            ]
        },
        {
            "cell_type": "markdown",
            "metadata": {},
            "source": [
                "- *La clase 0 tiene un rendimiento mejor que la clase 1, con una precisión de 0.82 frente a un 0.67. Esto podría deberse a que la clase 1 representa únicamente el 30% de las muestras totales, por lo que existe un desbalance de clases.*\n",
                "- *Vamos a probar a asignar pesos a las clases favoreciendo a la clase minoritaria, a ver si podemos mejorarlo.*"
            ]
        },
        {
            "cell_type": "code",
            "execution_count": 75,
            "metadata": {},
            "outputs": [
                {
                    "name": "stdout",
                    "output_type": "stream",
                    "text": [
                        "              precision    recall  f1-score   support\n",
                        "\n",
                        "           0       0.92      0.79      0.85       126\n",
                        "           1       0.63      0.83      0.72        53\n",
                        "\n",
                        "    accuracy                           0.80       179\n",
                        "   macro avg       0.77      0.81      0.78       179\n",
                        "weighted avg       0.83      0.80      0.81       179\n",
                        "\n"
                    ]
                }
            ],
            "source": [
                "# Modelo con pesos asignados\n",
                "\n",
                "class_prior = {0: 0.3, 1: 0.7}\n",
                "\n",
                "model_w = MultinomialNB().fit(X_train, y_train, sample_weight=[class_prior[i] for i in y_train])\n",
                "\n",
                "y_pred = model_w.predict(X_test)\n",
                "print(classification_report(y_test, y_pred))"
            ]
        },
        {
            "cell_type": "code",
            "execution_count": 76,
            "metadata": {},
            "outputs": [
                {
                    "name": "stdout",
                    "output_type": "stream",
                    "text": [
                        "Mejores hiperparámetros encontrados:\n",
                        "{'alpha': 2.0, 'fit_prior': False}\n",
                        "Informe de clasificación del mejor modelo:\n",
                        "              precision    recall  f1-score   support\n",
                        "\n",
                        "           0       0.82      0.90      0.86       126\n",
                        "           1       0.70      0.53      0.60        53\n",
                        "\n",
                        "    accuracy                           0.79       179\n",
                        "   macro avg       0.76      0.72      0.73       179\n",
                        "weighted avg       0.78      0.79      0.78       179\n",
                        "\n"
                    ]
                }
            ],
            "source": [
                "# Búsqueda de hiperparámetros para mejorar las métricas\n",
                "\n",
                "from sklearn.model_selection import GridSearchCV\n",
                "# Define el espacio de búsqueda de hiperparámetros\n",
                "param_grid = {\n",
                "    'alpha': [0.1, 0.5, 1.0, 2.0],  # Valores para el parámetro de suavizado\n",
                "    'fit_prior': [True, False],      # Valores para el parámetro de ajuste previo\n",
                "}\n",
                "\n",
                "# Inicializa el clasificador Naive Bayes Multinomial\n",
                "nb_classifier = MultinomialNB()\n",
                "\n",
                "# Inicializa el objeto GridSearchCV\n",
                "grid_search = GridSearchCV(estimator=nb_classifier, param_grid=param_grid, cv=5, scoring='accuracy')\n",
                "\n",
                "# Realiza la búsqueda de hiperparámetros en los datos de entrenamiento\n",
                "grid_search.fit(X_train, y_train)\n",
                "\n",
                "# Muestra los mejores hiperparámetros encontrados\n",
                "print(\"Mejores hiperparámetros encontrados:\")\n",
                "print(grid_search.best_params_)\n",
                "\n",
                "# Obtiene la mejor configuración del modelo\n",
                "best_nb_model = grid_search.best_estimator_\n",
                "\n",
                "# Realiza predicciones en el conjunto de prueba utilizando el mejor modelo\n",
                "y_pred = best_nb_model.predict(X_test)\n",
                "\n",
                "# Evalúa el rendimiento del mejor modelo\n",
                "print(\"Informe de clasificación del mejor modelo:\")\n",
                "print(classification_report(y_test, y_pred))"
            ]
        },
        {
            "cell_type": "code",
            "execution_count": 77,
            "metadata": {},
            "outputs": [
                {
                    "name": "stdout",
                    "output_type": "stream",
                    "text": [
                        "              precision    recall  f1-score   support\n",
                        "\n",
                        "           0       0.89      0.85      0.87       126\n",
                        "           1       0.68      0.75      0.71        53\n",
                        "\n",
                        "    accuracy                           0.82       179\n",
                        "   macro avg       0.78      0.80      0.79       179\n",
                        "weighted avg       0.83      0.82      0.82       179\n",
                        "\n"
                    ]
                }
            ],
            "source": [
                "# Definir las probabilidades a priori para cada clase\n",
                "class_prior = {0: 0.3, 1: 0.7}\n",
                "# Paso 4: Entrenamiento del modelo\n",
                "\n",
                "model_w = MultinomialNB(alpha = 0.3).fit(X_train, y_train, sample_weight=[class_prior[i] for i in y_train])\n",
                "\n",
                "# Realizar predicciones en el conjunto de prueba\n",
                "y_pred = model_w.predict(X_test)\n",
                "\n",
                "# Evaluar el rendimiento del modelo\n",
                "print(classification_report(y_test, y_pred))"
            ]
        },
        {
            "cell_type": "markdown",
            "metadata": {},
            "source": [
                "*Conclusiones finales:*\n",
                "\n",
                "- *Asignando pesos a las clases y probando ciertos valores de hiperparámetros hemos conseguido encontrar una versión mucho mejor de este modelo bayesiano que la que viene por default.*\n",
                "\n",
                "- *Es posible que probando otros modelos como Random Forest o XGBoost nos dé mejores resultados en un futuro.*"
            ]
        },
        {
            "cell_type": "code",
            "execution_count": 78,
            "metadata": {},
            "outputs": [
                {
                    "data": {
                        "text/plain": [
                            "['modelo_entrenado_naivebayes.joblib']"
                        ]
                    },
                    "execution_count": 78,
                    "metadata": {},
                    "output_type": "execute_result"
                }
            ],
            "source": [
                "# Guardado del modelo\n",
                "from joblib import dump\n",
                "dump(model_w, 'modelo_entrenado_naivebayes.joblib')"
            ]
        }
    ],
    "metadata": {
        "kernelspec": {
            "display_name": "Python 3.8.13 64-bit ('3.8.13')",
            "language": "python",
            "name": "python3"
        },
        "language_info": {
            "codemirror_mode": {
                "name": "ipython",
                "version": 3
            },
            "file_extension": ".py",
            "mimetype": "text/x-python",
            "name": "python",
            "nbconvert_exporter": "python",
            "pygments_lexer": "ipython3",
            "version": "3.10.12"
        },
        "orig_nbformat": 4,
        "vscode": {
            "interpreter": {
                "hash": "110cc1dee26208153f2972f08a2ad52b6a56238dc66d48e87fb757ef2996db56"
            }
        }
    },
    "nbformat": 4,
    "nbformat_minor": 2
}
